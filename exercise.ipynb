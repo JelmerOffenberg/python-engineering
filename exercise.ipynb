{
 "cells": [
  {
   "cell_type": "markdown",
   "source": [
    "# Guiding Notebook\n",
    "In this training session you get the chance to familiarise yourself with the many aspects of ML engineering and software engineering.\n",
    "As discussed during the presentation, the type of application that you're going to build today looks as follows:\n",
    "\n",
    "![application](docs/model-api.png)\n",
    "\n",
    "# Exercise 1: Get the basic API up and running\n",
    "\n",
    "- Explore the `main.py` file in the main directory. You can see there is a function available that describes the `hello` endpoint. Endpoints in FastAPI are **functions** annotated with a _decorator_ (`@app.get(\"/hello\")`). `Hello` is one of the endpoints you can interact with. Let's first start the API. Run `bash start.sh` from the terminal if you're running in the cloud to start the API.\n",
    "- If the command is successful, you should be able to navigate to the webserver. Use the web preview if you're working in the cloud.\n",
    "![expose-api](docs/expose-api.png) <br>\n"
   ],
   "metadata": {
    "collapsed": false
   }
  },
  {
   "cell_type": "markdown",
   "source": [
    "# Exercise 2: Create your first API request\n",
    "![stage_1](docs/request_stage_1.png)\n",
    "- Go to the web preview from the previous exercise. This is what we call the \"Swagger UI\" it contains the OpenAPI specifications for your API. It's a nice page because it allows you to interact with your API. Via an interface. It also lists the inputs that are expected for each endpoint!\n",
    "- Use the try-out functionality to send a `GET` request to your `/hello` endpoint.\n",
    "- Check out the console where you are running the API from. Can you see the request in the logs?"
   ],
   "metadata": {
    "collapsed": false
   }
  },
  {
   "cell_type": "markdown",
   "source": [
    "---\n",
    "# !Checkpoint 1\n",
    "\n",
    "At this point you should be able to run the API in the cloud shell and interact with it. You're able to see the logs in the terminal and inspect the Swagger documentation. If you're unsure that you can do all these things, please raise your hand or check with your peers.\n",
    "\n",
    "Now that you have the API up and running, it's time to start adding components to build the components that we want.\n",
    "\n",
    "---"
   ],
   "metadata": {
    "collapsed": false
   }
  },
  {
   "cell_type": "markdown",
   "source": [
    "# Exercise 3: Retrieving data via your API\n",
    "In this exercise we'll mimic a simple database look-up in the API. In practice you would probably use an external database for storing your information. However, for this exercise we'll use something much simpler: a python `dictionary`. This way we're in full control of what's happening and we can quickly experiment.\n",
    "\n",
    "![stage_2](docs/request_stage_2.png)\n",
    "\n",
    "**The goal of this exercise is to implement the following:**\n",
    "- Change the `hello` endpoint such that instead of returning the static value `return {\"answer\": \"goodbye\"}` it looks up the value in a dictionary.\n",
    "- You can create the dictionary in the `main.py` file and outside the endpoint. Let's create a database that contains apples and oranges like so: ```database = {\n",
    "    \"apples\": 40,\n",
    "    \"oranges\": 50\n",
    "}```\n",
    "- If you're familiar with python, you know how to extract the values 40 and 50 out of this dictionary. If you're unfamiliar, try this out in this notebook. It's easier to experiment here.\n",
    "- You'll need to make a change to your endpoint so that it accepts [query parameters](https://fastapi.tiangolo.com/tutorial/query-params/) a value (apples or oranges). If you pass \"apples\" to your request, you want to look up this value in the dictionary and return it. The same goes for the oranges.\n",
    "- When you've implemented this change, access the API user interface to see if everything is working as expected.\n",
    "\n"
   ],
   "metadata": {
    "collapsed": false
   }
  },
  {
   "cell_type": "code",
   "execution_count": null,
   "outputs": [],
   "source": [
    "# You can change, run, add and remove these code cells. Feel free to experiment.\n",
    "# Room for trying out the dictionary. When you're comfortable, implement this in the code\n",
    "# and check your API.\n",
    "database = {\n",
    "    \"apples\": 40,\n",
    "    \"oranges\": 50\n",
    "}\n",
    "\n",
    "# Access database.\n",
    "## your code ##"
   ],
   "metadata": {
    "collapsed": false
   }
  },
  {
   "cell_type": "markdown",
   "source": [
    "# Exercise 4: Inserting data via your API\n",
    "In the previous exercise, we did a look-up in our fake database (the dictionary). In this exercise want to update the database by adding an entry to the database. Make sure you got understand the steps of exercise 3.\n",
    "\n",
    "![stage_2](docs/request_stage_2.png)\n",
    "\n",
    "**For this exercise the goal is to:**\n",
    "- Send some data to your API via a POST endpoint\n",
    "- Add an entry to the dictionary\n",
    "- Return the new dictionary\n",
    "\n",
    "Start by creating a new endpoint, but this time it will be of type `@app.post(\"/hello\")`. You want to specify the name of the item to insert and the value. That means we have two parameters."
   ],
   "metadata": {
    "collapsed": false
   }
  },
  {
   "cell_type": "code",
   "execution_count": 1,
   "outputs": [],
   "source": [
    "# Example of how to add stuff to a dictionary\n",
    "database_two = {\n",
    "    \"apples\": 40,\n",
    "    \"oranges\": 50\n",
    "}\n",
    "\n",
    "database_two[\"banana\"] = 15"
   ],
   "metadata": {
    "collapsed": false
   }
  },
  {
   "cell_type": "markdown",
   "source": [
    "---\n",
    "# !Checkpoint 2\n",
    "\n",
    "By now you should understand the difference between GET and POST requests. You have a good understanding of how the functions translate into endpoints in your API. If anything is clear at all, feel free to raise a question.\n",
    "\n",
    "---"
   ],
   "metadata": {
    "collapsed": false
   }
  },
  {
   "cell_type": "markdown",
   "source": [
    "# Exercise 5: Schemas for input\n",
    "\n",
    "We'll now improve the POST endpoint. It's a best practice to limit the type of data that you can insert into an API. This ensures that the API is used how we want, and that the data that we receive is in the proper format.\n",
    "\n",
    "We'll use `pydantic` for defining a schema for the input parameter. There is a simple example on how to make a schema for your endpoints in the docs, located [here](https://fastapi.tiangolo.com/tutorial/body/#import-pydantics-basemodel). Adapt this example and create one for your own POST endpoint. Since this is a jupyter notebook, you can prototype your code below. Once it's working, you can add it to the API.\n",
    "\n",
    "**Think about the following questions**\n",
    "- How does your API interface change when you use a Pydantic object compared to the normal query parameters in exercise 4? Visit your API interface and compare the old endpoint with the new one.\n",
    "- What is the advantage of having such a schema?"
   ],
   "metadata": {
    "collapsed": false
   }
  },
  {
   "cell_type": "code",
   "execution_count": 3,
   "outputs": [
    {
     "name": "stdout",
     "output_type": "stream",
     "text": [
      "some_variable=42\n"
     ]
    }
   ],
   "source": [
    "from pydantic import BaseModel\n",
    "\n",
    "class YourCustomSchema(BaseModel):\n",
    "\n",
    "    some_variable: int\n",
    "\n",
    "model = YourCustomSchema(some_variable=42)\n",
    "\n",
    "print(model)"
   ],
   "metadata": {
    "collapsed": false
   }
  },
  {
   "cell_type": "markdown",
   "source": [
    "# Exercise 6: Caching in the API\n",
    "In this exercise we'll create a simple cache. This cache should be used to check if we made a request before, and if so: we return the cached value instead.\n",
    "\n",
    "In practice you would use an external storage as cache, something like Redis for instance. For this exercise we'll instead use a Python list instead. We will initialise the cache in the main file.\n",
    "\n",
    "![stage_3](docs/request_stage_3.png)\n",
    "\n",
    "We'll start out by something really simple, and we'll build it up to something nicer.\n",
    "- Create an empty list in the `main.py` file called `cache`. This will be your place where you store your requests.\n",
    "- Every time we make a prediction, we need to check if the prediction is already in the cache. Based on that we can do two things:\n",
    "  - We've made this prediction before, so now we'll return the cached value\n",
    "  - We haven't made this prediction before, so now we'll make the prediction, store it in the cache and return it to the requester.\n"
   ],
   "metadata": {
    "collapsed": false
   }
  },
  {
   "cell_type": "markdown",
   "source": [
    "# Exercise 7: Create an endpoint to view your cache\n",
    "An API allows you to expose various bits of information to your user. In the previous exercise we've created a cache. In this exercise, implement a simple endpoint that returns the current cache.\n",
    "\n",
    "- Create an endpoint to view the current cache. Given that it's a read action, what HTTP method would you typically use for this?"
   ],
   "metadata": {
    "collapsed": false
   }
  },
  {
   "cell_type": "code",
   "execution_count": null,
   "outputs": [],
   "source": [],
   "metadata": {
    "collapsed": false
   }
  }
 ],
 "metadata": {
  "kernelspec": {
   "display_name": "Python 3",
   "language": "python",
   "name": "python3"
  },
  "language_info": {
   "codemirror_mode": {
    "name": "ipython",
    "version": 2
   },
   "file_extension": ".py",
   "mimetype": "text/x-python",
   "name": "python",
   "nbconvert_exporter": "python",
   "pygments_lexer": "ipython2",
   "version": "2.7.6"
  }
 },
 "nbformat": 4,
 "nbformat_minor": 0
}
